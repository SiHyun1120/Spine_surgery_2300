{
 "cells": [
  {
   "cell_type": "code",
   "execution_count": 1,
   "id": "b4e6d753",
   "metadata": {
    "scrolled": true
   },
   "outputs": [
    {
     "name": "stdout",
     "output_type": "stream",
     "text": [
      "Requirement already satisfied: mediapipe in c:\\users\\finehealthcare\\anaconda3\\lib\\site-packages (0.10.2)\n",
      "Requirement already satisfied: opencv-python in c:\\users\\finehealthcare\\anaconda3\\lib\\site-packages (4.8.0.74)\n",
      "Requirement already satisfied: pandas in c:\\users\\finehealthcare\\anaconda3\\lib\\site-packages (1.4.4)\n",
      "Requirement already satisfied: scikit-learn in c:\\users\\finehealthcare\\anaconda3\\lib\\site-packages (1.0.2)\n",
      "Requirement already satisfied: flatbuffers>=2.0 in c:\\users\\finehealthcare\\anaconda3\\lib\\site-packages (from mediapipe) (23.1.21)\n",
      "Requirement already satisfied: matplotlib in c:\\users\\finehealthcare\\anaconda3\\lib\\site-packages (from mediapipe) (3.5.2)\n",
      "Requirement already satisfied: sounddevice>=0.4.4 in c:\\users\\finehealthcare\\anaconda3\\lib\\site-packages (from mediapipe) (0.4.6)\n",
      "Requirement already satisfied: attrs>=19.1.0 in c:\\users\\finehealthcare\\anaconda3\\lib\\site-packages (from mediapipe) (21.4.0)\n",
      "Requirement already satisfied: opencv-contrib-python in c:\\users\\finehealthcare\\anaconda3\\lib\\site-packages (from mediapipe) (4.8.0.74)\n",
      "Requirement already satisfied: protobuf<4,>=3.11 in c:\\users\\finehealthcare\\anaconda3\\lib\\site-packages (from mediapipe) (3.20.1)\n",
      "Requirement already satisfied: absl-py in c:\\users\\finehealthcare\\anaconda3\\lib\\site-packages (from mediapipe) (1.4.0)\n",
      "Requirement already satisfied: numpy in c:\\users\\finehealthcare\\anaconda3\\lib\\site-packages (from mediapipe) (1.21.5)\n",
      "Requirement already satisfied: pytz>=2020.1 in c:\\users\\finehealthcare\\anaconda3\\lib\\site-packages (from pandas) (2022.1)\n",
      "Requirement already satisfied: python-dateutil>=2.8.1 in c:\\users\\finehealthcare\\anaconda3\\lib\\site-packages (from pandas) (2.8.2)\n",
      "Requirement already satisfied: scipy>=1.1.0 in c:\\users\\finehealthcare\\anaconda3\\lib\\site-packages (from scikit-learn) (1.9.1)\n",
      "Requirement already satisfied: joblib>=0.11 in c:\\users\\finehealthcare\\anaconda3\\lib\\site-packages (from scikit-learn) (1.1.0)\n",
      "Requirement already satisfied: threadpoolctl>=2.0.0 in c:\\users\\finehealthcare\\anaconda3\\lib\\site-packages (from scikit-learn) (2.2.0)\n",
      "Requirement already satisfied: six>=1.5 in c:\\users\\finehealthcare\\anaconda3\\lib\\site-packages (from python-dateutil>=2.8.1->pandas) (1.16.0)\n",
      "Requirement already satisfied: CFFI>=1.0 in c:\\users\\finehealthcare\\anaconda3\\lib\\site-packages (from sounddevice>=0.4.4->mediapipe) (1.15.1)\n",
      "Requirement already satisfied: pyparsing>=2.2.1 in c:\\users\\finehealthcare\\anaconda3\\lib\\site-packages (from matplotlib->mediapipe) (3.0.9)\n",
      "Requirement already satisfied: packaging>=20.0 in c:\\users\\finehealthcare\\anaconda3\\lib\\site-packages (from matplotlib->mediapipe) (21.3)\n",
      "Requirement already satisfied: fonttools>=4.22.0 in c:\\users\\finehealthcare\\anaconda3\\lib\\site-packages (from matplotlib->mediapipe) (4.25.0)\n",
      "Requirement already satisfied: pillow>=6.2.0 in c:\\users\\finehealthcare\\anaconda3\\lib\\site-packages (from matplotlib->mediapipe) (9.2.0)\n",
      "Requirement already satisfied: kiwisolver>=1.0.1 in c:\\users\\finehealthcare\\anaconda3\\lib\\site-packages (from matplotlib->mediapipe) (1.4.2)\n",
      "Requirement already satisfied: cycler>=0.10 in c:\\users\\finehealthcare\\anaconda3\\lib\\site-packages (from matplotlib->mediapipe) (0.11.0)\n",
      "Requirement already satisfied: pycparser in c:\\users\\finehealthcare\\anaconda3\\lib\\site-packages (from CFFI>=1.0->sounddevice>=0.4.4->mediapipe) (2.21)\n"
     ]
    },
    {
     "name": "stderr",
     "output_type": "stream",
     "text": [
      "WARNING: Ignoring invalid distribution -rotobuf (c:\\users\\finehealthcare\\anaconda3\\lib\\site-packages)\n",
      "WARNING: Ignoring invalid distribution -rotobuf (c:\\users\\finehealthcare\\anaconda3\\lib\\site-packages)\n",
      "WARNING: Ignoring invalid distribution -rotobuf (c:\\users\\finehealthcare\\anaconda3\\lib\\site-packages)\n",
      "WARNING: Ignoring invalid distribution -rotobuf (c:\\users\\finehealthcare\\anaconda3\\lib\\site-packages)\n",
      "WARNING: Ignoring invalid distribution -rotobuf (c:\\users\\finehealthcare\\anaconda3\\lib\\site-packages)\n",
      "WARNING: Ignoring invalid distribution -rotobuf (c:\\users\\finehealthcare\\anaconda3\\lib\\site-packages)\n"
     ]
    }
   ],
   "source": [
    "!pip install mediapipe opencv-python pandas scikit-learn"
   ]
  },
  {
   "cell_type": "code",
   "execution_count": 1,
   "id": "6a47dd66",
   "metadata": {},
   "outputs": [],
   "source": [
    "import cv2\n",
    "import mediapipe as mp\n",
    "import numpy as np\n",
    "mp_drawing = mp.solutions.drawing_utils \n",
    "mp_pose = mp.solutions.pose "
   ]
  },
  {
   "cell_type": "markdown",
   "id": "1677dcc2",
   "metadata": {},
   "source": [
    "# 1.x Save Video"
   ]
  },
  {
   "cell_type": "code",
   "execution_count": 4,
   "id": "987d9220",
   "metadata": {},
   "outputs": [],
   "source": [
    "cap = cv2.VideoCapture(0)\n",
    "\n",
    "#비디오 속성 확인\n",
    "height=cap.get(cv2.CAP_PROP_FRAME_HEIGHT)\n",
    "width=cap.get(cv2.CAP_PROP_FRAME_WIDTH)\n",
    "fps=cap.get(cv2.CAP_PROP_FPS) #초당 프레임수\n",
    "\n",
    "#비디오 레코드 저장\n",
    "videoWriter= cv2.VideoWriter('train5.avi',cv2.VideoWriter_fourcc('P','I','M','1'),fps,(int(width),int(height)))\n",
    "\n",
    "while cap.isOpened():\n",
    "    ret,frame = cap.read()\n",
    "    \n",
    "    try:\n",
    "        cv2.imshow('Press',frame)\n",
    "        videoWriter.write(frame)\n",
    "        \n",
    "    except Exception as e:\n",
    "        break\n",
    "        \n",
    "    if cv2.waitKey(10) & 0xFF ==ord('q'):\n",
    "        break\n",
    "cap.release()\n",
    "videoWriter.release()\n",
    "cv2.destroyAllWindows() #열린 opencv 창 전부 닫음."
   ]
  },
  {
   "cell_type": "markdown",
   "id": "b1bd011c",
   "metadata": {},
   "source": [
    "# 2. Capture Landmarks & Export to CSV"
   ]
  },
  {
   "cell_type": "code",
   "execution_count": 2,
   "id": "857d0d18",
   "metadata": {},
   "outputs": [],
   "source": [
    "import csv\n",
    "import os\n",
    "import numpy as np\n",
    "from matplotlib import pyplot as plt"
   ]
  },
  {
   "cell_type": "code",
   "execution_count": 38,
   "id": "6cd61be5",
   "metadata": {},
   "outputs": [],
   "source": [
    "landmarks=['class']\n",
    "for val in range(1,33+1):\n",
    "    landmarks +=['x{}'.format(val),'y{}'.format(val),'z{}'.format(val),'v{}'.format(val)]"
   ]
  },
  {
   "cell_type": "code",
   "execution_count": 40,
   "id": "af64ef9b",
   "metadata": {},
   "outputs": [],
   "source": [
    "# 데이터 저장할 csv 파일 형성\n",
    "with open('coords.csv',mode='w',newline='') as f:\n",
    "    csv_writer = csv.writer(f,delimiter=',',quotechar='\"',quoting=csv.QUOTE_MINIMAL)\n",
    "    csv_writer.writerow(landmarks)"
   ]
  },
  {
   "cell_type": "code",
   "execution_count": 3,
   "id": "6a90cc8a",
   "metadata": {},
   "outputs": [],
   "source": [
    "def export_landmark(results,action):\n",
    "    try:\n",
    "        keypoints = np.array([[res.x,res.y,res.z,res.visibility] for res in results.pose_landmarks.landmark]).flatten()\n",
    "        \n",
    "        if action=='good':\n",
    "            keypoints = np.insert(keypoints,0,0)\n",
    "\n",
    "        if action=='bad':\n",
    "            keypoints = np.insert(keypoints,0,1)\n",
    "            \n",
    "        with open('coords.csv',mode='a',newline='') as f:\n",
    "            csv_writer = csv.writer(f,delimiter=',',quotechar='\"',quoting=csv.QUOTE_MINIMAL)\n",
    "            csv_writer.writerow(keypoints)\n",
    "\n",
    "    except Exception as e:\n",
    "        pass"
   ]
  },
  {
   "cell_type": "code",
   "execution_count": 7,
   "id": "4ca56e8c",
   "metadata": {},
   "outputs": [
    {
     "name": "stdout",
     "output_type": "stream",
     "text": [
      "good\n",
      "good\n",
      "good\n",
      "good\n",
      "good\n",
      "bad\n",
      "bad\n",
      "bad\n",
      "bad\n",
      "bad\n",
      "bad\n",
      "bad\n",
      "bad\n",
      "bad\n",
      "bad\n",
      "bad\n"
     ]
    }
   ],
   "source": [
    "# 영상을 통해 데이터셋 구축\n",
    "cap =cv2.VideoCapture('train5.avi') #setting video capture device(number은 웹캠을 대표하는 숫자)\n",
    "\n",
    "# Setup mediapipe instance\n",
    "with mp_pose.Pose(min_detection_confidence=0.5,min_tracking_confidence=0.5) as pose:\n",
    "    while cap.isOpened(): #실시간 영상을 가져올 수 있도록 함.\n",
    "        ret,frame = cap.read() #frame은 현재 프레임 이미지가 담긴 것.\n",
    "      \n",
    "        #Detect stuff and render\n",
    "        #Recolor image to RGB\n",
    "        image =cv2.cvtColor(frame,cv2.COLOR_BGR2RGB) #웹캠으로 읽어온 frame을 BGR에서 RGB로 변환(Mediapipe는 RGB 형식임.)\n",
    "        image.flags.writeable =False #이미지를 불변으로 설정하여 처리 속도를 향상 시킴.\n",
    "        \n",
    "        #Make detection -> 자세 detection을 results라는 변수에\n",
    "        results= pose.process(image)\n",
    "        \n",
    "        # Recolor back to BGR\n",
    "        image.flags.writeable=True #image 위에 그릴 수 있도록.\n",
    "        image =cv2.cvtColor(image,cv2.COLOR_RGB2BGR) #Mediapipe 처리 결과를 BGR로 변환\n",
    "\n",
    "        mp_drawing.draw_landmarks(image,results.pose_landmarks,mp_pose.POSE_CONNECTIONS,\n",
    "                                 mp_drawing.DrawingSpec(color=(245,117,66),thickness=2,circle_radius=2),\n",
    "                                 mp_drawing.DrawingSpec(color=(245,66,230),thickness=2,circle_radius=2))\n",
    "        \n",
    "        #키보드로 입력한 키와 동일한 아스키코드값\n",
    "        k = cv2.waitKey(1)\n",
    "        \n",
    "        if k == 103: # good의 g\n",
    "            print('good')\n",
    "            export_landmark(results,'good')\n",
    "            \n",
    "        if k == 98: # bad의 b\n",
    "            print('bad')\n",
    "            export_landmark(results,'bad')\n",
    "            \n",
    "\n",
    "        cv2.imshow('Mediapipe Feed', image) #웹캠에서의 실시간 영상 확인 가능\n",
    "\n",
    "        if cv2.waitKey(10) & 0xFF == ord('q'): #웹캠 화면을 종료하는 방법\n",
    "            break\n",
    "\n",
    "    cap.release() #비디오 객체 해제\n",
    "    cv2.destroyAllWindows() #열린 opencv 창 전부 닫음."
   ]
  },
  {
   "cell_type": "markdown",
   "id": "ef61ab6c",
   "metadata": {},
   "source": [
    "# 3. Train Custom Model Using Scikit Learn"
   ]
  },
  {
   "cell_type": "code",
   "execution_count": 3,
   "id": "30ec3072",
   "metadata": {},
   "outputs": [],
   "source": [
    "import pandas as pd\n",
    "from sklearn.model_selection import train_test_split"
   ]
  },
  {
   "cell_type": "code",
   "execution_count": 6,
   "id": "0f4b0886",
   "metadata": {},
   "outputs": [],
   "source": [
    "df = pd.read_csv('coords.csv')"
   ]
  },
  {
   "cell_type": "code",
   "execution_count": 7,
   "id": "ef35eace",
   "metadata": {
    "scrolled": true
   },
   "outputs": [
    {
     "data": {
      "text/html": [
       "<div>\n",
       "<style scoped>\n",
       "    .dataframe tbody tr th:only-of-type {\n",
       "        vertical-align: middle;\n",
       "    }\n",
       "\n",
       "    .dataframe tbody tr th {\n",
       "        vertical-align: top;\n",
       "    }\n",
       "\n",
       "    .dataframe thead th {\n",
       "        text-align: right;\n",
       "    }\n",
       "</style>\n",
       "<table border=\"1\" class=\"dataframe\">\n",
       "  <thead>\n",
       "    <tr style=\"text-align: right;\">\n",
       "      <th></th>\n",
       "      <th>class</th>\n",
       "      <th>x1</th>\n",
       "      <th>y1</th>\n",
       "      <th>z1</th>\n",
       "      <th>v1</th>\n",
       "      <th>x2</th>\n",
       "      <th>y2</th>\n",
       "      <th>z2</th>\n",
       "      <th>v2</th>\n",
       "      <th>x3</th>\n",
       "      <th>...</th>\n",
       "      <th>z31</th>\n",
       "      <th>v31</th>\n",
       "      <th>x32</th>\n",
       "      <th>y32</th>\n",
       "      <th>z32</th>\n",
       "      <th>v32</th>\n",
       "      <th>x33</th>\n",
       "      <th>y33</th>\n",
       "      <th>z33</th>\n",
       "      <th>v33</th>\n",
       "    </tr>\n",
       "  </thead>\n",
       "  <tbody>\n",
       "    <tr>\n",
       "      <th>0</th>\n",
       "      <td>1.0</td>\n",
       "      <td>0.574625</td>\n",
       "      <td>0.645155</td>\n",
       "      <td>-2.716616</td>\n",
       "      <td>0.999971</td>\n",
       "      <td>0.613432</td>\n",
       "      <td>0.541128</td>\n",
       "      <td>-2.666490</td>\n",
       "      <td>0.999928</td>\n",
       "      <td>0.639249</td>\n",
       "      <td>...</td>\n",
       "      <td>0.935618</td>\n",
       "      <td>0.000005</td>\n",
       "      <td>0.643913</td>\n",
       "      <td>3.477567</td>\n",
       "      <td>0.135438</td>\n",
       "      <td>0.000025</td>\n",
       "      <td>0.433251</td>\n",
       "      <td>3.463732</td>\n",
       "      <td>-0.039228</td>\n",
       "      <td>0.000023</td>\n",
       "    </tr>\n",
       "    <tr>\n",
       "      <th>5</th>\n",
       "      <td>1.0</td>\n",
       "      <td>0.537767</td>\n",
       "      <td>0.462969</td>\n",
       "      <td>-1.919308</td>\n",
       "      <td>0.999924</td>\n",
       "      <td>0.579951</td>\n",
       "      <td>0.358659</td>\n",
       "      <td>-1.850385</td>\n",
       "      <td>0.999786</td>\n",
       "      <td>0.604060</td>\n",
       "      <td>...</td>\n",
       "      <td>1.004654</td>\n",
       "      <td>0.000023</td>\n",
       "      <td>0.655511</td>\n",
       "      <td>3.420799</td>\n",
       "      <td>0.291147</td>\n",
       "      <td>0.000088</td>\n",
       "      <td>0.431579</td>\n",
       "      <td>3.422243</td>\n",
       "      <td>-0.007665</td>\n",
       "      <td>0.000073</td>\n",
       "    </tr>\n",
       "    <tr>\n",
       "      <th>6</th>\n",
       "      <td>1.0</td>\n",
       "      <td>0.521010</td>\n",
       "      <td>0.483275</td>\n",
       "      <td>-1.729316</td>\n",
       "      <td>0.999927</td>\n",
       "      <td>0.563916</td>\n",
       "      <td>0.382079</td>\n",
       "      <td>-1.659376</td>\n",
       "      <td>0.999813</td>\n",
       "      <td>0.590612</td>\n",
       "      <td>...</td>\n",
       "      <td>0.892840</td>\n",
       "      <td>0.000014</td>\n",
       "      <td>0.669275</td>\n",
       "      <td>3.512212</td>\n",
       "      <td>0.104764</td>\n",
       "      <td>0.000052</td>\n",
       "      <td>0.451516</td>\n",
       "      <td>3.521004</td>\n",
       "      <td>-0.025925</td>\n",
       "      <td>0.000051</td>\n",
       "    </tr>\n",
       "    <tr>\n",
       "      <th>8</th>\n",
       "      <td>1.0</td>\n",
       "      <td>0.542656</td>\n",
       "      <td>0.566369</td>\n",
       "      <td>-1.812025</td>\n",
       "      <td>0.999912</td>\n",
       "      <td>0.577504</td>\n",
       "      <td>0.468208</td>\n",
       "      <td>-1.772007</td>\n",
       "      <td>0.999773</td>\n",
       "      <td>0.598465</td>\n",
       "      <td>...</td>\n",
       "      <td>1.054646</td>\n",
       "      <td>0.000030</td>\n",
       "      <td>0.678239</td>\n",
       "      <td>3.385082</td>\n",
       "      <td>0.187723</td>\n",
       "      <td>0.000087</td>\n",
       "      <td>0.482416</td>\n",
       "      <td>3.392722</td>\n",
       "      <td>0.219381</td>\n",
       "      <td>0.000050</td>\n",
       "    </tr>\n",
       "    <tr>\n",
       "      <th>9</th>\n",
       "      <td>1.0</td>\n",
       "      <td>0.540199</td>\n",
       "      <td>0.485035</td>\n",
       "      <td>-1.278962</td>\n",
       "      <td>0.999912</td>\n",
       "      <td>0.569675</td>\n",
       "      <td>0.393340</td>\n",
       "      <td>-1.198702</td>\n",
       "      <td>0.999779</td>\n",
       "      <td>0.590393</td>\n",
       "      <td>...</td>\n",
       "      <td>0.819317</td>\n",
       "      <td>0.000012</td>\n",
       "      <td>0.678596</td>\n",
       "      <td>3.359066</td>\n",
       "      <td>0.104130</td>\n",
       "      <td>0.000060</td>\n",
       "      <td>0.477530</td>\n",
       "      <td>3.365616</td>\n",
       "      <td>0.017861</td>\n",
       "      <td>0.000036</td>\n",
       "    </tr>\n",
       "    <tr>\n",
       "      <th>...</th>\n",
       "      <td>...</td>\n",
       "      <td>...</td>\n",
       "      <td>...</td>\n",
       "      <td>...</td>\n",
       "      <td>...</td>\n",
       "      <td>...</td>\n",
       "      <td>...</td>\n",
       "      <td>...</td>\n",
       "      <td>...</td>\n",
       "      <td>...</td>\n",
       "      <td>...</td>\n",
       "      <td>...</td>\n",
       "      <td>...</td>\n",
       "      <td>...</td>\n",
       "      <td>...</td>\n",
       "      <td>...</td>\n",
       "      <td>...</td>\n",
       "      <td>...</td>\n",
       "      <td>...</td>\n",
       "      <td>...</td>\n",
       "      <td>...</td>\n",
       "    </tr>\n",
       "    <tr>\n",
       "      <th>153</th>\n",
       "      <td>1.0</td>\n",
       "      <td>0.575684</td>\n",
       "      <td>0.793310</td>\n",
       "      <td>-3.794668</td>\n",
       "      <td>0.999495</td>\n",
       "      <td>0.651851</td>\n",
       "      <td>0.675077</td>\n",
       "      <td>-3.784873</td>\n",
       "      <td>0.999039</td>\n",
       "      <td>0.688868</td>\n",
       "      <td>...</td>\n",
       "      <td>0.995576</td>\n",
       "      <td>0.001793</td>\n",
       "      <td>0.686751</td>\n",
       "      <td>3.586208</td>\n",
       "      <td>0.782773</td>\n",
       "      <td>0.002240</td>\n",
       "      <td>0.507195</td>\n",
       "      <td>3.640984</td>\n",
       "      <td>0.194790</td>\n",
       "      <td>0.003968</td>\n",
       "    </tr>\n",
       "    <tr>\n",
       "      <th>154</th>\n",
       "      <td>1.0</td>\n",
       "      <td>0.577354</td>\n",
       "      <td>0.793228</td>\n",
       "      <td>-3.699437</td>\n",
       "      <td>0.999516</td>\n",
       "      <td>0.653100</td>\n",
       "      <td>0.674620</td>\n",
       "      <td>-3.709641</td>\n",
       "      <td>0.999054</td>\n",
       "      <td>0.690517</td>\n",
       "      <td>...</td>\n",
       "      <td>1.088048</td>\n",
       "      <td>0.001945</td>\n",
       "      <td>0.701244</td>\n",
       "      <td>3.634534</td>\n",
       "      <td>0.826685</td>\n",
       "      <td>0.002444</td>\n",
       "      <td>0.502892</td>\n",
       "      <td>3.663879</td>\n",
       "      <td>0.276381</td>\n",
       "      <td>0.004253</td>\n",
       "    </tr>\n",
       "    <tr>\n",
       "      <th>155</th>\n",
       "      <td>1.0</td>\n",
       "      <td>0.578887</td>\n",
       "      <td>0.793087</td>\n",
       "      <td>-3.702616</td>\n",
       "      <td>0.999506</td>\n",
       "      <td>0.654823</td>\n",
       "      <td>0.674468</td>\n",
       "      <td>-3.708305</td>\n",
       "      <td>0.998995</td>\n",
       "      <td>0.692543</td>\n",
       "      <td>...</td>\n",
       "      <td>1.100296</td>\n",
       "      <td>0.002151</td>\n",
       "      <td>0.700076</td>\n",
       "      <td>3.634335</td>\n",
       "      <td>0.879401</td>\n",
       "      <td>0.002656</td>\n",
       "      <td>0.486596</td>\n",
       "      <td>3.667595</td>\n",
       "      <td>0.287578</td>\n",
       "      <td>0.004706</td>\n",
       "    </tr>\n",
       "    <tr>\n",
       "      <th>156</th>\n",
       "      <td>1.0</td>\n",
       "      <td>0.581935</td>\n",
       "      <td>0.793034</td>\n",
       "      <td>-3.754220</td>\n",
       "      <td>0.999509</td>\n",
       "      <td>0.656170</td>\n",
       "      <td>0.674340</td>\n",
       "      <td>-3.753478</td>\n",
       "      <td>0.998994</td>\n",
       "      <td>0.694430</td>\n",
       "      <td>...</td>\n",
       "      <td>1.130285</td>\n",
       "      <td>0.002271</td>\n",
       "      <td>0.694823</td>\n",
       "      <td>3.631020</td>\n",
       "      <td>0.904441</td>\n",
       "      <td>0.002774</td>\n",
       "      <td>0.480000</td>\n",
       "      <td>3.673965</td>\n",
       "      <td>0.340561</td>\n",
       "      <td>0.005033</td>\n",
       "    </tr>\n",
       "    <tr>\n",
       "      <th>157</th>\n",
       "      <td>1.0</td>\n",
       "      <td>0.584580</td>\n",
       "      <td>0.791957</td>\n",
       "      <td>-3.762350</td>\n",
       "      <td>0.999505</td>\n",
       "      <td>0.657870</td>\n",
       "      <td>0.671138</td>\n",
       "      <td>-3.765768</td>\n",
       "      <td>0.998952</td>\n",
       "      <td>0.696979</td>\n",
       "      <td>...</td>\n",
       "      <td>1.102479</td>\n",
       "      <td>0.002388</td>\n",
       "      <td>0.694631</td>\n",
       "      <td>3.618463</td>\n",
       "      <td>0.843674</td>\n",
       "      <td>0.002814</td>\n",
       "      <td>0.485393</td>\n",
       "      <td>3.659016</td>\n",
       "      <td>0.289238</td>\n",
       "      <td>0.005310</td>\n",
       "    </tr>\n",
       "  </tbody>\n",
       "</table>\n",
       "<p>91 rows × 133 columns</p>\n",
       "</div>"
      ],
      "text/plain": [
       "     class        x1        y1        z1        v1        x2        y2  \\\n",
       "0      1.0  0.574625  0.645155 -2.716616  0.999971  0.613432  0.541128   \n",
       "5      1.0  0.537767  0.462969 -1.919308  0.999924  0.579951  0.358659   \n",
       "6      1.0  0.521010  0.483275 -1.729316  0.999927  0.563916  0.382079   \n",
       "8      1.0  0.542656  0.566369 -1.812025  0.999912  0.577504  0.468208   \n",
       "9      1.0  0.540199  0.485035 -1.278962  0.999912  0.569675  0.393340   \n",
       "..     ...       ...       ...       ...       ...       ...       ...   \n",
       "153    1.0  0.575684  0.793310 -3.794668  0.999495  0.651851  0.675077   \n",
       "154    1.0  0.577354  0.793228 -3.699437  0.999516  0.653100  0.674620   \n",
       "155    1.0  0.578887  0.793087 -3.702616  0.999506  0.654823  0.674468   \n",
       "156    1.0  0.581935  0.793034 -3.754220  0.999509  0.656170  0.674340   \n",
       "157    1.0  0.584580  0.791957 -3.762350  0.999505  0.657870  0.671138   \n",
       "\n",
       "           z2        v2        x3  ...       z31       v31       x32  \\\n",
       "0   -2.666490  0.999928  0.639249  ...  0.935618  0.000005  0.643913   \n",
       "5   -1.850385  0.999786  0.604060  ...  1.004654  0.000023  0.655511   \n",
       "6   -1.659376  0.999813  0.590612  ...  0.892840  0.000014  0.669275   \n",
       "8   -1.772007  0.999773  0.598465  ...  1.054646  0.000030  0.678239   \n",
       "9   -1.198702  0.999779  0.590393  ...  0.819317  0.000012  0.678596   \n",
       "..        ...       ...       ...  ...       ...       ...       ...   \n",
       "153 -3.784873  0.999039  0.688868  ...  0.995576  0.001793  0.686751   \n",
       "154 -3.709641  0.999054  0.690517  ...  1.088048  0.001945  0.701244   \n",
       "155 -3.708305  0.998995  0.692543  ...  1.100296  0.002151  0.700076   \n",
       "156 -3.753478  0.998994  0.694430  ...  1.130285  0.002271  0.694823   \n",
       "157 -3.765768  0.998952  0.696979  ...  1.102479  0.002388  0.694631   \n",
       "\n",
       "          y32       z32       v32       x33       y33       z33       v33  \n",
       "0    3.477567  0.135438  0.000025  0.433251  3.463732 -0.039228  0.000023  \n",
       "5    3.420799  0.291147  0.000088  0.431579  3.422243 -0.007665  0.000073  \n",
       "6    3.512212  0.104764  0.000052  0.451516  3.521004 -0.025925  0.000051  \n",
       "8    3.385082  0.187723  0.000087  0.482416  3.392722  0.219381  0.000050  \n",
       "9    3.359066  0.104130  0.000060  0.477530  3.365616  0.017861  0.000036  \n",
       "..        ...       ...       ...       ...       ...       ...       ...  \n",
       "153  3.586208  0.782773  0.002240  0.507195  3.640984  0.194790  0.003968  \n",
       "154  3.634534  0.826685  0.002444  0.502892  3.663879  0.276381  0.004253  \n",
       "155  3.634335  0.879401  0.002656  0.486596  3.667595  0.287578  0.004706  \n",
       "156  3.631020  0.904441  0.002774  0.480000  3.673965  0.340561  0.005033  \n",
       "157  3.618463  0.843674  0.002814  0.485393  3.659016  0.289238  0.005310  \n",
       "\n",
       "[91 rows x 133 columns]"
      ]
     },
     "execution_count": 7,
     "metadata": {},
     "output_type": "execute_result"
    }
   ],
   "source": [
    "df[df['class']==1] #거북목 자세"
   ]
  },
  {
   "cell_type": "code",
   "execution_count": 17,
   "id": "a1101fb7",
   "metadata": {},
   "outputs": [],
   "source": [
    "X = df.drop('class',axis=1) #class를 제외한 입력 feature만 남김.\n",
    "y = df['class']"
   ]
  },
  {
   "cell_type": "code",
   "execution_count": 21,
   "id": "fce9ebb4",
   "metadata": {},
   "outputs": [],
   "source": [
    "X_train,X_test,y_train,y_test = train_test_split(X,y,test_size=0.3,random_state=123)"
   ]
  },
  {
   "cell_type": "code",
   "execution_count": 22,
   "id": "a1a7372d",
   "metadata": {
    "scrolled": true
   },
   "outputs": [
    {
     "data": {
      "text/plain": [
       "24     1.0\n",
       "23     1.0\n",
       "117    1.0\n",
       "88     1.0\n",
       "135    1.0\n",
       "87     1.0\n",
       "89     1.0\n",
       "143    0.0\n",
       "154    1.0\n",
       "157    1.0\n",
       "138    0.0\n",
       "53     1.0\n",
       "139    0.0\n",
       "142    0.0\n",
       "8      1.0\n",
       "65     0.0\n",
       "42     1.0\n",
       "74     1.0\n",
       "133    1.0\n",
       "41     0.0\n",
       "13     1.0\n",
       "129    1.0\n",
       "31     1.0\n",
       "33     0.0\n",
       "36     1.0\n",
       "61     0.0\n",
       "72     1.0\n",
       "59     0.0\n",
       "20     1.0\n",
       "37     0.0\n",
       "28     0.0\n",
       "60     0.0\n",
       "93     1.0\n",
       "7      0.0\n",
       "103    0.0\n",
       "4      0.0\n",
       "62     1.0\n",
       "122    1.0\n",
       "29     0.0\n",
       "140    0.0\n",
       "0      1.0\n",
       "86     1.0\n",
       "116    1.0\n",
       "127    1.0\n",
       "147    1.0\n",
       "115    1.0\n",
       "5      1.0\n",
       "16     1.0\n",
       "Name: class, dtype: float64"
      ]
     },
     "execution_count": 22,
     "metadata": {},
     "output_type": "execute_result"
    }
   ],
   "source": [
    "y_test"
   ]
  },
  {
   "cell_type": "markdown",
   "id": "f36bba68",
   "metadata": {},
   "source": [
    "## 3.2 Train Machine Learning Classification Model"
   ]
  },
  {
   "cell_type": "code",
   "execution_count": 29,
   "id": "86835b4d",
   "metadata": {},
   "outputs": [],
   "source": [
    "from sklearn.pipeline import make_pipeline\n",
    "from sklearn.preprocessing import StandardScaler\n",
    "\n",
    "from sklearn.linear_model import LogisticRegression, RidgeClassifier\n",
    "from sklearn.ensemble import RandomForestClassifier, GradientBoostingClassifier"
   ]
  },
  {
   "cell_type": "code",
   "execution_count": 30,
   "id": "3e831c2a",
   "metadata": {},
   "outputs": [],
   "source": [
    "pipelines = {\n",
    "    'lr' : make_pipeline(StandardScaler(),LogisticRegression()),\n",
    "    'rc' : make_pipeline(StandardScaler(),RidgeClassifier()),\n",
    "    'rf' : make_pipeline(StandardScaler(),RandomForestClassifier()),\n",
    "    'gb' : make_pipeline(StandardScaler(),GradientBoostingClassifier())\n",
    "}"
   ]
  },
  {
   "cell_type": "code",
   "execution_count": 31,
   "id": "f4278e65",
   "metadata": {
    "scrolled": true
   },
   "outputs": [],
   "source": [
    "fit_models={}\n",
    "for algo,pipeline in pipelines.items():\n",
    "    model = pipeline.fit(X_train,y_train)\n",
    "    fit_models[algo] = model"
   ]
  },
  {
   "cell_type": "code",
   "execution_count": 32,
   "id": "80c003d1",
   "metadata": {
    "scrolled": true
   },
   "outputs": [
    {
     "data": {
      "text/plain": [
       "{'lr': Pipeline(steps=[('standardscaler', StandardScaler()),\n",
       "                 ('logisticregression', LogisticRegression())]),\n",
       " 'rc': Pipeline(steps=[('standardscaler', StandardScaler()),\n",
       "                 ('ridgeclassifier', RidgeClassifier())]),\n",
       " 'rf': Pipeline(steps=[('standardscaler', StandardScaler()),\n",
       "                 ('randomforestclassifier', RandomForestClassifier())]),\n",
       " 'gb': Pipeline(steps=[('standardscaler', StandardScaler()),\n",
       "                 ('gradientboostingclassifier', GradientBoostingClassifier())])}"
      ]
     },
     "execution_count": 32,
     "metadata": {},
     "output_type": "execute_result"
    }
   ],
   "source": [
    "fit_models"
   ]
  },
  {
   "cell_type": "code",
   "execution_count": 33,
   "id": "0087ecd4",
   "metadata": {
    "scrolled": true
   },
   "outputs": [
    {
     "data": {
      "text/plain": [
       "array([1., 1., 1., 1., 1., 1., 1., 0., 1., 1., 0., 1., 0., 0., 1., 0., 1.,\n",
       "       1., 1., 0., 1., 1., 1., 0., 1., 0., 1., 0., 1., 0., 0., 0., 1., 0.,\n",
       "       0., 0., 1., 1., 0., 0., 1., 1., 1., 1., 1., 1., 1., 0.])"
      ]
     },
     "execution_count": 33,
     "metadata": {},
     "output_type": "execute_result"
    }
   ],
   "source": [
    "fit_models['rc'].predict(X_test)"
   ]
  },
  {
   "cell_type": "markdown",
   "id": "2eb5aa94",
   "metadata": {},
   "source": [
    "## 3.3 Evaluate and Serialize Model"
   ]
  },
  {
   "cell_type": "code",
   "execution_count": 8,
   "id": "7a3a4b4a",
   "metadata": {},
   "outputs": [],
   "source": [
    "from sklearn.metrics import accuracy_score, precision_score, recall_score\n",
    "import pickle"
   ]
  },
  {
   "cell_type": "code",
   "execution_count": 37,
   "id": "f4dc8776",
   "metadata": {
    "scrolled": true
   },
   "outputs": [
    {
     "name": "stdout",
     "output_type": "stream",
     "text": [
      "lr 0.9791666666666666 1.0 0.967741935483871\n",
      "rc 0.9791666666666666 1.0 0.967741935483871\n",
      "rf 1.0 1.0 1.0\n",
      "gb 1.0 1.0 1.0\n"
     ]
    }
   ],
   "source": [
    "for algo, model in fit_models.items():\n",
    "    yhat = model.predict(X_test)\n",
    "    print(algo,accuracy_score(y_test.values,yhat),\n",
    "         precision_score(y_test.values,yhat,pos_label=1),\n",
    "         recall_score(y_test.values,yhat,pos_label=1))"
   ]
  },
  {
   "cell_type": "code",
   "execution_count": 38,
   "id": "f5954c95",
   "metadata": {},
   "outputs": [],
   "source": [
    "yhat = fit_models['rf'].predict(X_test)"
   ]
  },
  {
   "cell_type": "code",
   "execution_count": 39,
   "id": "2f3a4abc",
   "metadata": {},
   "outputs": [
    {
     "data": {
      "text/plain": [
       "array([1., 1., 1., 1., 1., 1., 1., 0., 1., 1.])"
      ]
     },
     "execution_count": 39,
     "metadata": {},
     "output_type": "execute_result"
    }
   ],
   "source": [
    "yhat[:10]"
   ]
  },
  {
   "cell_type": "code",
   "execution_count": 40,
   "id": "8c3b922a",
   "metadata": {
    "scrolled": true
   },
   "outputs": [
    {
     "data": {
      "text/plain": [
       "24     1.0\n",
       "23     1.0\n",
       "117    1.0\n",
       "88     1.0\n",
       "135    1.0\n",
       "87     1.0\n",
       "89     1.0\n",
       "143    0.0\n",
       "154    1.0\n",
       "157    1.0\n",
       "138    0.0\n",
       "53     1.0\n",
       "139    0.0\n",
       "142    0.0\n",
       "8      1.0\n",
       "65     0.0\n",
       "42     1.0\n",
       "74     1.0\n",
       "133    1.0\n",
       "41     0.0\n",
       "13     1.0\n",
       "129    1.0\n",
       "31     1.0\n",
       "33     0.0\n",
       "36     1.0\n",
       "61     0.0\n",
       "72     1.0\n",
       "59     0.0\n",
       "20     1.0\n",
       "37     0.0\n",
       "28     0.0\n",
       "60     0.0\n",
       "93     1.0\n",
       "7      0.0\n",
       "103    0.0\n",
       "4      0.0\n",
       "62     1.0\n",
       "122    1.0\n",
       "29     0.0\n",
       "140    0.0\n",
       "0      1.0\n",
       "86     1.0\n",
       "116    1.0\n",
       "127    1.0\n",
       "147    1.0\n",
       "115    1.0\n",
       "5      1.0\n",
       "16     1.0\n",
       "Name: class, dtype: float64"
      ]
     },
     "execution_count": 40,
     "metadata": {},
     "output_type": "execute_result"
    }
   ],
   "source": [
    "y_test"
   ]
  },
  {
   "cell_type": "code",
   "execution_count": 42,
   "id": "e9bc198f",
   "metadata": {},
   "outputs": [],
   "source": [
    "with open('Textneck.pkl','wb') as f:\n",
    "    pickle.dump(fit_models['rf'],f)"
   ]
  },
  {
   "cell_type": "markdown",
   "id": "51de5390",
   "metadata": {},
   "source": [
    "# 4. Make Detections with Model"
   ]
  },
  {
   "cell_type": "code",
   "execution_count": 43,
   "id": "245135b6",
   "metadata": {},
   "outputs": [],
   "source": [
    "with open('Textneck.pkl','rb') as f:\n",
    "    model = pickle.load(f)"
   ]
  },
  {
   "cell_type": "code",
   "execution_count": 10,
   "id": "ccc98322",
   "metadata": {},
   "outputs": [],
   "source": [
    "landmarks=['class']\n",
    "for val in range(1,33+1):\n",
    "    landmarks +=['x{}'.format(val),'y{}'.format(val),'z{}'.format(val),'v{}'.format(val)]"
   ]
  },
  {
   "cell_type": "code",
   "execution_count": 11,
   "id": "2dadc95b",
   "metadata": {
    "scrolled": false
   },
   "outputs": [],
   "source": [
    "#VISUALIZE DEGREE\n",
    "cap =cv2.VideoCapture(0) #setting video capture device(number은 웹캠을 대표하는 숫자)\n",
    "\n",
    "# Curl counter variables\n",
    "counter = 0\n",
    "\n",
    "# Setup mediapipe instance\n",
    "with mp_pose.Pose(min_detection_confidence=0.5,min_tracking_confidence=0.5) as pose:\n",
    "    \n",
    "    while cap.isOpened(): #실시간 영상을 가져올 수 있도록 함.\n",
    "        ret, frame = cap.read() #frame은 현재 프레임 이미지가 담긴 것.\n",
    "      \n",
    "        #Detect stuff and render\n",
    "        #Recolor image to RGB\n",
    "        image =cv2.cvtColor(frame,cv2.COLOR_BGR2RGB) #웹캠으로 읽어온 frame을 BGR에서 RGB로 변환(Mediapipe는 RGB 형식임.)\n",
    "        image.flags.writeable =False #이미지를 불변으로 설정하여 처리 속도를 향상 시킴.\n",
    "        \n",
    "        #Make detection -> 자세 detection을 results라는 변수에\n",
    "        results= pose.process(image)\n",
    "        \n",
    "        # Recolor back to BGR\n",
    "        image.flags.writeable=True #image 위에 그릴 수 있도록.\n",
    "        image =cv2.cvtColor(image,cv2.COLOR_RGB2BGR) #Mediapipe 처리 결과를 BGR로 변환\n",
    "        \n",
    "         #Extract landmarks\n",
    "        try:  \n",
    "            row = np.array([[res.x,res.y,res.z,res.visibility] for res in results.pose_landmarks.landmark]).flatten()\n",
    "            X = pd.DataFrame([row],columns=landmarks[1:])\n",
    "            body_language_class = model.predict(X)[0]\n",
    "            body_language_prob = model.predict_proba(X)[0]\n",
    "            \n",
    "            if body_language_class == 0 and body_language_prob[body_language_prob.argmax()] >= .7:\n",
    "                current_stage = 'Good'\n",
    "            elif current_stage == 'Good' and body_language_class ==1 and body_language_prob[body_language_prob.argmax()] >= .7 :\n",
    "                current_stage = 'Textneck'\n",
    "                counter +=1\n",
    "        \n",
    "            #Setup status bow\n",
    "            cv2.rectangle(image,(0,0),(250,60),(245,117,16),-1) \n",
    "\n",
    "\n",
    "            #지금 상태\n",
    "            cv2.putText(image,'CLASS',(15,12),\n",
    "                       cv2.FONT_HERSHEY_SIMPLEX,0.5,(0,0,0),1,cv2.LINE_AA)\n",
    "            cv2.putText(image, 'Textneck' if body_language_class == 1 else 'Good',(15,40)\n",
    "                        ,cv2.FONT_HERSHEY_SIMPLEX,1,(255,255,255),2,cv2.LINE_AA)\n",
    "\n",
    "            #Stage data \n",
    "            cv2.putText(image,'Count',(180,12),\n",
    "                       cv2.FONT_HERSHEY_SIMPLEX,0.5,(0,0,0),1,cv2.LINE_AA)\n",
    "    \n",
    "            cv2.putText(image,str(counter),(175,40),\n",
    "                       cv2.FONT_HERSHEY_SIMPLEX,1,(255,255,255),2,cv2.LINE_AA)\n",
    "\n",
    "            # Render detections\n",
    "            #drawing 툴을 사용해서 감지된 자세포인트와 이들 간의 포인트를 연결해 보여준다.\n",
    "            #mp_drawing.DrawingSpec은 관절부위와 bone 부분의 색깔, 굵기 등을 지정해준다.\n",
    "            mp_drawing.draw_landmarks(image,results.pose_landmarks,mp_pose.POSE_CONNECTIONS,\n",
    "                                     mp_drawing.DrawingSpec(color=(245,117,66),thickness=2,circle_radius=2),\n",
    "                                     mp_drawing.DrawingSpec(color=(245,66,230),thickness=2,circle_radius=2))\n",
    "\n",
    "\n",
    "        except: #error가 있으면 실행x\n",
    "            pass\n",
    "        \n",
    "        cv2.imshow('Mediapipe Feed', image) #웹캠에서의 실시간 영상 확인 가능\n",
    "\n",
    "        if cv2.waitKey(10) & 0xFF == ord('q'): #웹캠 화면을 종료하는 방법\n",
    "            break\n",
    "\n",
    "    cap.release() #비디오 객체 해제\n",
    "    cv2.destroyAllWindows() #열린 opencv 창 전부 닫음."
   ]
  }
 ],
 "metadata": {
  "kernelspec": {
   "display_name": "Python 3 (ipykernel)",
   "language": "python",
   "name": "python3"
  },
  "language_info": {
   "codemirror_mode": {
    "name": "ipython",
    "version": 3
   },
   "file_extension": ".py",
   "mimetype": "text/x-python",
   "name": "python",
   "nbconvert_exporter": "python",
   "pygments_lexer": "ipython3",
   "version": "3.9.13"
  }
 },
 "nbformat": 4,
 "nbformat_minor": 5
}
